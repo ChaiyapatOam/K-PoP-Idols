{
 "cells": [
  {
   "cell_type": "code",
   "execution_count": 1,
   "id": "c1cfbfe2",
   "metadata": {},
   "outputs": [],
   "source": [
    "import pandas as pd\n"
   ]
  },
  {
   "cell_type": "code",
   "execution_count": 3,
   "id": "0c43e9c9",
   "metadata": {},
   "outputs": [
    {
     "data": {
      "text/html": [
       "<div>\n",
       "<style scoped>\n",
       "    .dataframe tbody tr th:only-of-type {\n",
       "        vertical-align: middle;\n",
       "    }\n",
       "\n",
       "    .dataframe tbody tr th {\n",
       "        vertical-align: top;\n",
       "    }\n",
       "\n",
       "    .dataframe thead th {\n",
       "        text-align: right;\n",
       "    }\n",
       "</style>\n",
       "<table border=\"1\" class=\"dataframe\">\n",
       "  <thead>\n",
       "    <tr style=\"text-align: right;\">\n",
       "      <th></th>\n",
       "      <th>Stage Name</th>\n",
       "      <th>Full Name</th>\n",
       "      <th>Korean Name</th>\n",
       "      <th>K. Stage Name</th>\n",
       "      <th>Date of Birth</th>\n",
       "      <th>Group</th>\n",
       "      <th>Country</th>\n",
       "      <th>Birthplace</th>\n",
       "      <th>Other Group</th>\n",
       "      <th>Gender</th>\n",
       "    </tr>\n",
       "  </thead>\n",
       "  <tbody>\n",
       "    <tr>\n",
       "      <th>0</th>\n",
       "      <td>A.M</td>\n",
       "      <td>Seong Hyunwoo</td>\n",
       "      <td>성현우</td>\n",
       "      <td>에이엠</td>\n",
       "      <td>1996-12-31</td>\n",
       "      <td>Limitless</td>\n",
       "      <td>South Korea</td>\n",
       "      <td>NaN</td>\n",
       "      <td>NaN</td>\n",
       "      <td>M</td>\n",
       "    </tr>\n",
       "    <tr>\n",
       "      <th>1</th>\n",
       "      <td>Ace</td>\n",
       "      <td>Jang Wooyoung</td>\n",
       "      <td>장우영</td>\n",
       "      <td>에이스</td>\n",
       "      <td>1992-08-28</td>\n",
       "      <td>VAV</td>\n",
       "      <td>South Korea</td>\n",
       "      <td>NaN</td>\n",
       "      <td>NaN</td>\n",
       "      <td>M</td>\n",
       "    </tr>\n",
       "    <tr>\n",
       "      <th>2</th>\n",
       "      <td>Aeji</td>\n",
       "      <td>Kwon Aeji</td>\n",
       "      <td>권애지</td>\n",
       "      <td>애지</td>\n",
       "      <td>1999-10-25</td>\n",
       "      <td>Hashtag</td>\n",
       "      <td>South Korea</td>\n",
       "      <td>Daegu</td>\n",
       "      <td>NaN</td>\n",
       "      <td>F</td>\n",
       "    </tr>\n",
       "    <tr>\n",
       "      <th>3</th>\n",
       "      <td>AhIn</td>\n",
       "      <td>Lee Ahin</td>\n",
       "      <td>이아인</td>\n",
       "      <td>아인</td>\n",
       "      <td>1999-09-27</td>\n",
       "      <td>MOMOLAND</td>\n",
       "      <td>South Korea</td>\n",
       "      <td>Wonju</td>\n",
       "      <td>NaN</td>\n",
       "      <td>F</td>\n",
       "    </tr>\n",
       "    <tr>\n",
       "      <th>4</th>\n",
       "      <td>Ahra</td>\n",
       "      <td>Go Ahra</td>\n",
       "      <td>고아라</td>\n",
       "      <td>아라</td>\n",
       "      <td>2001-02-21</td>\n",
       "      <td>Favorite</td>\n",
       "      <td>South Korea</td>\n",
       "      <td>Yeosu</td>\n",
       "      <td>NaN</td>\n",
       "      <td>F</td>\n",
       "    </tr>\n",
       "    <tr>\n",
       "      <th>...</th>\n",
       "      <td>...</td>\n",
       "      <td>...</td>\n",
       "      <td>...</td>\n",
       "      <td>...</td>\n",
       "      <td>...</td>\n",
       "      <td>...</td>\n",
       "      <td>...</td>\n",
       "      <td>...</td>\n",
       "      <td>...</td>\n",
       "      <td>...</td>\n",
       "    </tr>\n",
       "    <tr>\n",
       "      <th>1305</th>\n",
       "      <td>Ziu</td>\n",
       "      <td>Park Heejun</td>\n",
       "      <td>박희준</td>\n",
       "      <td>지우</td>\n",
       "      <td>1997-06-16</td>\n",
       "      <td>VAV</td>\n",
       "      <td>South Korea</td>\n",
       "      <td>NaN</td>\n",
       "      <td>NaN</td>\n",
       "      <td>M</td>\n",
       "    </tr>\n",
       "    <tr>\n",
       "      <th>1306</th>\n",
       "      <td>ZN</td>\n",
       "      <td>Bae Jinye</td>\n",
       "      <td>배진예</td>\n",
       "      <td>지엔</td>\n",
       "      <td>1994-06-09</td>\n",
       "      <td>LABOUM</td>\n",
       "      <td>South Korea</td>\n",
       "      <td>Bucheon</td>\n",
       "      <td>UNI.T</td>\n",
       "      <td>F</td>\n",
       "    </tr>\n",
       "    <tr>\n",
       "      <th>1307</th>\n",
       "      <td>Zoa</td>\n",
       "      <td>Cho Hyewon</td>\n",
       "      <td>조혜원</td>\n",
       "      <td>조아</td>\n",
       "      <td>2005-05-31</td>\n",
       "      <td>Weeekly</td>\n",
       "      <td>South Korea</td>\n",
       "      <td>NaN</td>\n",
       "      <td>NaN</td>\n",
       "      <td>F</td>\n",
       "    </tr>\n",
       "    <tr>\n",
       "      <th>1308</th>\n",
       "      <td>Zuho</td>\n",
       "      <td>Bae Juho</td>\n",
       "      <td>백주호</td>\n",
       "      <td>주호</td>\n",
       "      <td>1996-07-04</td>\n",
       "      <td>SF9</td>\n",
       "      <td>South Korea</td>\n",
       "      <td>NaN</td>\n",
       "      <td>NaN</td>\n",
       "      <td>M</td>\n",
       "    </tr>\n",
       "    <tr>\n",
       "      <th>1309</th>\n",
       "      <td>Zuny</td>\n",
       "      <td>Kim Joomi</td>\n",
       "      <td>김주미</td>\n",
       "      <td>주니</td>\n",
       "      <td>1994-12-08</td>\n",
       "      <td>Ladies' Code</td>\n",
       "      <td>South Korea</td>\n",
       "      <td>Gwangju</td>\n",
       "      <td>NaN</td>\n",
       "      <td>F</td>\n",
       "    </tr>\n",
       "  </tbody>\n",
       "</table>\n",
       "<p>1310 rows × 10 columns</p>\n",
       "</div>"
      ],
      "text/plain": [
       "     Stage Name      Full Name Korean Name K. Stage Name Date of Birth  \\\n",
       "0           A.M  Seong Hyunwoo         성현우           에이엠    1996-12-31   \n",
       "1           Ace  Jang Wooyoung         장우영           에이스    1992-08-28   \n",
       "2          Aeji      Kwon Aeji         권애지            애지    1999-10-25   \n",
       "3          AhIn       Lee Ahin         이아인            아인    1999-09-27   \n",
       "4          Ahra        Go Ahra         고아라            아라    2001-02-21   \n",
       "...         ...            ...         ...           ...           ...   \n",
       "1305        Ziu    Park Heejun         박희준            지우    1997-06-16   \n",
       "1306         ZN      Bae Jinye         배진예            지엔    1994-06-09   \n",
       "1307        Zoa     Cho Hyewon         조혜원            조아    2005-05-31   \n",
       "1308       Zuho       Bae Juho         백주호            주호    1996-07-04   \n",
       "1309       Zuny      Kim Joomi         김주미            주니    1994-12-08   \n",
       "\n",
       "             Group      Country Birthplace Other Group Gender  \n",
       "0        Limitless  South Korea        NaN         NaN      M  \n",
       "1              VAV  South Korea        NaN         NaN      M  \n",
       "2          Hashtag  South Korea      Daegu         NaN      F  \n",
       "3         MOMOLAND  South Korea      Wonju         NaN      F  \n",
       "4         Favorite  South Korea      Yeosu         NaN      F  \n",
       "...            ...          ...        ...         ...    ...  \n",
       "1305           VAV  South Korea        NaN         NaN      M  \n",
       "1306        LABOUM  South Korea    Bucheon       UNI.T      F  \n",
       "1307       Weeekly  South Korea        NaN         NaN      F  \n",
       "1308           SF9  South Korea        NaN         NaN      M  \n",
       "1309  Ladies' Code  South Korea    Gwangju         NaN      F  \n",
       "\n",
       "[1310 rows x 10 columns]"
      ]
     },
     "execution_count": 3,
     "metadata": {},
     "output_type": "execute_result"
    }
   ],
   "source": [
    "df = pd.read_csv(\"kpop_idols.csv\")\n",
    "df"
   ]
  },
  {
   "cell_type": "code",
   "execution_count": 18,
   "id": "5d715a6f",
   "metadata": {},
   "outputs": [
    {
     "data": {
      "text/plain": [
       "0              \n",
       "1              \n",
       "2         Daegu\n",
       "3         Wonju\n",
       "4         Yeosu\n",
       "         ...   \n",
       "1305           \n",
       "1306    Bucheon\n",
       "1307           \n",
       "1308           \n",
       "1309    Gwangju\n",
       "Name: Birthplace, Length: 1310, dtype: object"
      ]
     },
     "execution_count": 18,
     "metadata": {},
     "output_type": "execute_result"
    }
   ],
   "source": [
    "df.fillna(\"\",inplace=True)\n",
    "df[\"Birthplace\"]"
   ]
  },
  {
   "cell_type": "markdown",
   "id": "eebeb180",
   "metadata": {},
   "source": [
    "# City\n",
    "- Seoul=188 คน \n",
    "- Busan=60 คน \n",
    "- Daegu=27คน \n",
    "- Wonju=5คน \n",
    "- Yeosu=4คน"
   ]
  },
  {
   "cell_type": "code",
   "execution_count": 33,
   "id": "a179652b",
   "metadata": {
    "scrolled": true
   },
   "outputs": [
    {
     "name": "stdout",
     "output_type": "stream",
     "text": [
      "Seoul=188 คน \n",
      "Busan=60 คน \n",
      "Daegu=27คน \n",
      "Wonju=5คน \n",
      "Yeosu=4คน\n"
     ]
    }
   ],
   "source": [
    "Daegu = 0\n",
    "Wonju = 0\n",
    "Yeosu = 0\n",
    "Busan = 0\n",
    "Seoul = 0\n",
    "City={\n",
    "    \"Seoul\":[],\n",
    "    \"Busan\" : [],\n",
    "    \"Daegu\" : [],\n",
    "    \"Wonju\": [],\n",
    "    \"Yeosu\" : []\n",
    "}\n",
    "for i in range(len(df)):\n",
    "    if df[\"Birthplace\"].loc[i]==\"Daegu\":\n",
    "        Daegu +=1\n",
    "        City[\"Daegu\"].append(df[\"Full Name\"].loc[i])\n",
    "        \n",
    "    elif df[\"Birthplace\"].loc[i] ==\"Wonju\":\n",
    "        Wonju+=1\n",
    "        City[\"Wonju\"].append(df[\"Full Name\"].loc[i])\n",
    "        \n",
    "    elif df[\"Birthplace\"].loc[i] ==\"Yeosu\":\n",
    "        Yeosu +=1\n",
    "        City[\"Yeosu\"].append(df[\"Full Name\"].loc[i])\n",
    "        \n",
    "    elif df[\"Birthplace\"].loc[i] == \"Seoul\":\n",
    "        Seoul +=1\n",
    "        City[\"Seoul\"].append(df[\"Full Name\"].loc[i])\n",
    "        \n",
    "    elif df[\"Birthplace\"].loc[i] == \"Busan\":\n",
    "        Busan +=1\n",
    "        City[\"Busan\"].append(df[\"Full Name\"].loc[i])\n",
    "        \n",
    "print(\"Seoul={} คน \\nBusan={} คน \\nDaegu={}คน \\nWonju={}คน \\nYeosu={}คน\".format(\n",
    "    Seoul,Busan,Daegu,Wonju,Yeosu)\n",
    ")"
   ]
  },
  {
   "cell_type": "markdown",
   "id": "4917cba2",
   "metadata": {},
   "source": [
    "# Male and Female\n"
   ]
  },
  {
   "cell_type": "code",
   "execution_count": 42,
   "id": "cf57a263",
   "metadata": {},
   "outputs": [
    {
     "name": "stdout",
     "output_type": "stream",
     "text": [
      "Male = 676 \n",
      "Female = 634\n"
     ]
    }
   ],
   "source": [
    "M=0\n",
    "F=0\n",
    "x=0\n",
    "for i in df[\"Gender\"]:\n",
    "    if i == \"M\":\n",
    "        M +=1\n",
    "    elif i == \"F\":\n",
    "        F +=1\n",
    "print(\"Male = {} \\nFemale = {}\".format(M,F))"
   ]
  },
  {
   "cell_type": "markdown",
   "id": "4683c693",
   "metadata": {},
   "source": [
    "# Group"
   ]
  },
  {
   "cell_type": "code",
   "execution_count": 54,
   "id": "8767967f",
   "metadata": {
    "scrolled": true
   },
   "outputs": [
    {
     "name": "stdout",
     "output_type": "stream",
     "text": [
      "208 group\n"
     ]
    }
   ],
   "source": [
    "group = []\n",
    "for i in range(len(df)):\n",
    "    if df.duplicated(\"Group\").loc[i]== False:\n",
    "        group.append(df[\"Group\"].loc[i])\n",
    "print(len(group)-1,\"group\")"
   ]
  }
 ],
 "metadata": {
  "kernelspec": {
   "display_name": "Python 3",
   "language": "python",
   "name": "python3"
  },
  "language_info": {
   "codemirror_mode": {
    "name": "ipython",
    "version": 3
   },
   "file_extension": ".py",
   "mimetype": "text/x-python",
   "name": "python",
   "nbconvert_exporter": "python",
   "pygments_lexer": "ipython3",
   "version": "3.8.10"
  }
 },
 "nbformat": 4,
 "nbformat_minor": 5
}
